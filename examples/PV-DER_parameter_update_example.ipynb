{
 "cells": [
  {
   "cell_type": "markdown",
   "metadata": {
    "colab_type": "text",
    "id": "view-in-github"
   },
   "source": [
    "<a href=\"https://colab.research.google.com/github/sibyjackgrove/SolarPV-DER-simulation-utility/blob/master/examples/PV-DER_usage_example.ipynb\" target=\"_parent\"><img src=\"https://colab.research.google.com/assets/colab-badge.svg\" alt=\"Open In Colab\"/></a>"
   ]
  },
  {
   "cell_type": "markdown",
   "metadata": {},
   "source": [
    "## Accessing and updating model parameters"
   ]
  },
  {
   "cell_type": "markdown",
   "metadata": {
    "colab_type": "text",
    "id": "J4tKN3DvS5U8"
   },
   "source": [
    "### Import classes\n",
    "Import classes neccessary to define instances of the PV-DER model, events, simulation, and results."
   ]
  },
  {
   "cell_type": "code",
   "execution_count": 1,
   "metadata": {
    "colab": {},
    "colab_type": "code",
    "id": "JwLCIIkdS5U_"
   },
   "outputs": [
    {
     "name": "stdout",
     "output_type": "stream",
     "text": [
      "Scipy version: 1.4.1\n",
      "Numpy version: 1.20.3\n",
      "Matplotlib version: 3.4.2\n",
      "PVDER version: 0.5.5\n"
     ]
    }
   ],
   "source": [
    "from pvder.DER_wrapper import DERModel\n",
    "\n",
    "from pvder.grid_components import Grid\n",
    "from pvder.dynamic_simulation import DynamicSimulation\n",
    "from pvder.simulation_events import SimulationEvents\n",
    "from pvder.simulation_utilities import SimulationUtilities,SimulationResults\n",
    "from pvder import utility_functions\n",
    "import pvder\n",
    "\n",
    "#Import Python modules\n",
    "import logging\n",
    "import numpy as np\n",
    "import scipy as sci\n",
    "import math\n",
    "import cmath\n",
    "import pandas\n",
    "\n",
    "\n",
    "import matplotlib as matplotlib\n",
    "print('Scipy version:',sci.__version__)\n",
    "print('Numpy version:',np.__version__)\n",
    "print('Matplotlib version:',matplotlib.__version__)\n",
    "print('PVDER version:',pvder.__version__)\n",
    "#%matplotlib inline    #To show interactive plot in the notebook cell"
   ]
  },
  {
   "cell_type": "markdown",
   "metadata": {},
   "source": [
    "### Specify voltage values\n",
    "Specify voltage values for non-standalone model."
   ]
  },
  {
   "cell_type": "code",
   "execution_count": 2,
   "metadata": {},
   "outputs": [
    {
     "name": "stdout",
     "output_type": "stream",
     "text": [
      "Vrms:146.07\n",
      "Va:164.78-124.57j,Vb:-190.96-78.26j,Vc:26.24+206.56j\n",
      "V0:0.06+3.73j\n"
     ]
    }
   ],
   "source": [
    "logging.debug('test')\n",
    "Va=164.78-124.57j\n",
    "Vb=-190.96-78.26j\n",
    "Vc=26.24+206.56j\n",
    "Vrms = abs(Va)/math.sqrt(2)\n",
    "print('Vrms:{:.2f}'.format(Vrms))\n",
    "print('Va:{:.2f},Vb:{:.2f},Vc:{:.2f}'.format(Va,Vb,Vc))\n",
    "print('V0:{:.2f}'.format(Va+Vb+Vc))\n",
    "\n",
    "events1 = SimulationEvents(verbosity = 'DEBUG')\n",
    "grid1 = Grid(events=events1,unbalance_ratio_b=1.0,unbalance_ratio_c=1.0)\n"
   ]
  },
  {
   "cell_type": "markdown",
   "metadata": {},
   "source": [
    "## Select options"
   ]
  },
  {
   "cell_type": "code",
   "execution_count": 3,
   "metadata": {},
   "outputs": [],
   "source": [
    "STAND_ALONE = False\n",
    "STEADY_STATE = True\n",
    "LOOP=False\n",
    "\n",
    "model_type = 'ThreePhaseUnbalanced' #Model type\n",
    "#three phase model types: 'ThreePhaseBalanced','ThreePhaseUnbalanced','ThreePhaseUnbalancedConstantVdc'\n",
    "#single phase model types: 'SinglePhase'\n",
    "\n",
    "der_verbosity = 'INFO' #Logging verbosity\n",
    "config_file = r'../config_der.json'\n",
    "parameter1 = '50'#'50_type1'#'50','10' '50_constantVdc','50_balanced','250'"
   ]
  },
  {
   "cell_type": "markdown",
   "metadata": {
    "colab_type": "text",
    "id": "IrB7IEwGS5VD"
   },
   "source": [
    "### Create objects required to simulate either single phase or three phase PV-DER"
   ]
  },
  {
   "cell_type": "code",
   "execution_count": 4,
   "metadata": {},
   "outputs": [
    {
     "name": "stderr",
     "output_type": "stream",
     "text": [
      "INFO:pvder_logger:DER configuration with ID:50 was found in ../config_der.json\n",
      "INFO:pvder_logger:-SolarPVDERThreePhase_1:Instance created with DER parameter ID: 50; Specifications - Srated:50.0 kVA, Ppv:45.8 kW, Vrms:146.1 V, Steady state:True,LVRT Enable:True,HVRT Enable:True\n"
     ]
    },
    {
     "name": "stdout",
     "output_type": "stream",
     "text": [
      "Optimization results:[ 0.6030582  -0.45266374  1.16945499 -0.89241647]\n"
     ]
    }
   ],
   "source": [
    "PV_DER1 = DERModel(modelType=model_type,events=events1,configFile=config_file,\n",
    "                       Vrmsrated = Vrms,\n",
    "                       gridVoltagePhaseA = Va,gridVoltagePhaseB = Vb,gridVoltagePhaseC = Vc,gridFrequency=2*math.pi*60.0,\n",
    "                       derId=parameter1,\n",
    "                       standAlone = STAND_ALONE,steadyStateInitialization=STEADY_STATE,\n",
    "                       verbosity = der_verbosity)        \n",
    "    \n",
    "sim1 = DynamicSimulation(gridModel=grid1,PV_model=PV_DER1.DER_model,events = events1,verbosity = 'INFO',solverType='odeint',LOOP_MODE=LOOP) #'odeint','ode-vode-bdf'\n",
    "results1 = SimulationResults(simulation = sim1,PER_UNIT=True,verbosity = 'INFO')"
   ]
  },
  {
   "cell_type": "markdown",
   "metadata": {},
   "source": [
    "## Create and use a user defined parameter dictionary\n",
    "### 1. Show existing parameter dictionaries using show_parameter_dictionaries() and show_parameter_types().\n"
   ]
  },
  {
   "cell_type": "code",
   "execution_count": 5,
   "metadata": {},
   "outputs": [
    {
     "name": "stdout",
     "output_type": "stream",
     "text": [
      "-----Parameter dictionary: Parameter IDs-----\n",
      "module_parameters : 50\n",
      "inverter_ratings : 50\n",
      "circuit_parameters : 50\n",
      "controller_gains : 50\n",
      "steadystate_values : 50\n",
      "-----Parameter dictionary: Parameter types-----\n",
      "module_parameters : Np,Ns,Vdcmpp0,Vdcmpp_min,Vdcmpp_max\n",
      "inverter_ratings : Srated,Vdcrated,Ioverload,Vrmsrated,Iramp_max_gradient_real,Iramp_max_gradient_imag\n",
      "circuit_parameters : Rf_actual,Lf_actual,C_actual,R1_actual,X1_actual,Z1_actual\n",
      "controller_gains : Kp_GCC,Ki_GCC,Kp_DC,Ki_DC,Kp_Q,Ki_Q,wp\n",
      "steadystate_values : maR0,maI0,iaR0,iaI0\n"
     ]
    }
   ],
   "source": [
    "PV_DER1.DER_model.show_parameter_dictionaries()\n",
    "PV_DER1.DER_model.show_parameter_types()"
   ]
  },
  {
   "cell_type": "markdown",
   "metadata": {},
   "source": [
    "### 2. Get parameter values using get_parameter_values()"
   ]
  },
  {
   "cell_type": "code",
   "execution_count": 6,
   "metadata": {},
   "outputs": [
    {
     "name": "stdout",
     "output_type": "stream",
     "text": [
      "{   'C_actual': 0.0003,\n",
      "    'Ioverload': 1.3,\n",
      "    'Iramp_max_gradient_imag': 1.0,\n",
      "    'Iramp_max_gradient_real': 1.0,\n",
      "    'Ki_DC': -10.0,\n",
      "    'Ki_GCC': 2000.0,\n",
      "    'Ki_Q': 10.0,\n",
      "    'Kp_DC': -2.0,\n",
      "    'Kp_GCC': 6000.0,\n",
      "    'Kp_Q': 0.2,\n",
      "    'Lf_actual': 2.5e-05,\n",
      "    'Np': 11,\n",
      "    'Ns': 735,\n",
      "    'R1_actual': 0.0019,\n",
      "    'Rf_actual': 0.002,\n",
      "    'Srated': 50000.0,\n",
      "    'Vdcmpp0': 550.0,\n",
      "    'Vdcmpp_max': 650.0,\n",
      "    'Vdcmpp_min': 525.0,\n",
      "    'Vdcrated': 550.0,\n",
      "    'Vrmsrated': 146.06528215150922,\n",
      "    'X1_actual': 0.0561,\n",
      "    'Z1_actual': (0.0019+0.0561j),\n",
      "    'iaI0': 0.001,\n",
      "    'iaR0': 1.0,\n",
      "    'maI0': 0.0,\n",
      "    'maR0': 0.89,\n",
      "    'wp': 200000.0}\n"
     ]
    }
   ],
   "source": [
    "DER_parameters = PV_DER1.DER_model.get_parameter_dictionary(parameter_type='all',parameter_ID='50')"
   ]
  },
  {
   "cell_type": "markdown",
   "metadata": {},
   "source": [
    "### 3. Select name of new parameter dictionary (e.g. 'my_DER') and source parameter ID (e.g. '50').\n",
    "### 4. Create and initialize new parameter dictionary using initialize_parameter_dict()."
   ]
  },
  {
   "cell_type": "code",
   "execution_count": 7,
   "metadata": {},
   "outputs": [
    {
     "name": "stderr",
     "output_type": "stream",
     "text": [
      "INFO:pvder_logger:-SolarPVDERThreePhase_1:Created and initialized new parameter dicitonary my_DER with source dictionary 50.\n"
     ]
    }
   ],
   "source": [
    "PV_DER1.DER_model.initialize_parameter_dict(parameter_ID='my_DER',source_parameter_ID='50')"
   ]
  },
  {
   "cell_type": "markdown",
   "metadata": {},
   "source": [
    "### 5. Update the new parameter dictionary with desired values (e.g. {'Np':5} in 'module_parameters' and {'C_actual':5} in 'circuit_parameters') using update_parameter_dict()."
   ]
  },
  {
   "cell_type": "code",
   "execution_count": 8,
   "metadata": {},
   "outputs": [],
   "source": [
    "PV_DER1.DER_model.update_parameter_dict(parameter_ID='my_DER',parameter_type='module_parameters',parameter_dict={'Np':5})\n",
    "PV_DER1.DER_model.update_parameter_dict(parameter_ID='my_DER',parameter_type='circuit_parameters',parameter_dict={'C_actual':0.0005})"
   ]
  },
  {
   "cell_type": "markdown",
   "metadata": {},
   "source": [
    "### 6. Update the PV-DER model with parameters from the new parameter dictionary using modify_DER_parameters()"
   ]
  },
  {
   "cell_type": "code",
   "execution_count": 9,
   "metadata": {},
   "outputs": [
    {
     "name": "stderr",
     "output_type": "stream",
     "text": [
      "INFO:pvder_logger:-SolarPVDERThreePhase_1:PV-DER parameters updated with parameters fromparameter dictionary my_DER!\n"
     ]
    },
    {
     "name": "stdout",
     "output_type": "stream",
     "text": [
      "Optimization results:[ 0.60092891 -0.45449525  0.5319794  -0.40595435]\n"
     ]
    }
   ],
   "source": [
    "PV_DER1.DER_model.modify_DER_parameters(parameter_ID='my_DER')"
   ]
  },
  {
   "cell_type": "markdown",
   "metadata": {},
   "source": [
    "### 7. Save and load parameter dictionaries using  save_parameter_dictionary() and load_parameter_dictionary()"
   ]
  },
  {
   "cell_type": "code",
   "execution_count": 10,
   "metadata": {},
   "outputs": [
    {
     "name": "stderr",
     "output_type": "stream",
     "text": [
      "INFO:pvder_logger:-SolarPVDERThreePhase_1:Saved all the parameter dicitonaries as a pickle file in my_DER.pkl.\n"
     ]
    }
   ],
   "source": [
    "file_name = PV_DER1.DER_model.save_parameter_dictionary(parameter_ID='my_DER',save_format='pickle')"
   ]
  },
  {
   "cell_type": "code",
   "execution_count": 11,
   "metadata": {},
   "outputs": [
    {
     "name": "stderr",
     "output_type": "stream",
     "text": [
      "INFO:pvder_logger:-SolarPVDERThreePhase_1:Created and initialized new parameter dicitonary my_DER with source dictionary 50.\n",
      "INFO:pvder_logger:-SolarPVDERThreePhase_1:Succesfully loaded parameters from my_DER.pkl into DER parameter dictionary with parameter ID my_DER.\n"
     ]
    },
    {
     "name": "stdout",
     "output_type": "stream",
     "text": [
      "Read following dictionary from my_DER.pkl:\n",
      "{   'C_actual': 0.0005,\n",
      "    'Ioverload': 1.3,\n",
      "    'Iramp_max_gradient_imag': 1.0,\n",
      "    'Iramp_max_gradient_real': 1.0,\n",
      "    'Ki_DC': -10.0,\n",
      "    'Ki_GCC': 2000.0,\n",
      "    'Ki_Q': 10.0,\n",
      "    'Kp_DC': -2.0,\n",
      "    'Kp_GCC': 6000.0,\n",
      "    'Kp_Q': 0.2,\n",
      "    'Lf_actual': 2.5e-05,\n",
      "    'Np': 5,\n",
      "    'Ns': 735,\n",
      "    'R1_actual': 0.0019,\n",
      "    'Rf_actual': 0.002,\n",
      "    'Srated': 50000.0,\n",
      "    'Vdcmpp0': 550.0,\n",
      "    'Vdcmpp_max': 650.0,\n",
      "    'Vdcmpp_min': 525.0,\n",
      "    'Vdcrated': 550.0,\n",
      "    'Vrmsrated': 146.06528215150922,\n",
      "    'X1_actual': 0.0561,\n",
      "    'Z1_actual': (0.0019+0.0561j),\n",
      "    'iaI0': 0.001,\n",
      "    'iaR0': 1.0,\n",
      "    'maI0': 0.0,\n",
      "    'maR0': 0.89,\n",
      "    'wp': 200000.0}\n"
     ]
    }
   ],
   "source": [
    "_=PV_DER1.DER_model.load_parameter_dictionary(file_name='my_DER.pkl')"
   ]
  },
  {
   "cell_type": "markdown",
   "metadata": {
    "colab_type": "text",
    "id": "wsv8bkkuS5VQ"
   },
   "source": [
    "## Specify run time flags, simulation time, and run simulation "
   ]
  },
  {
   "cell_type": "code",
   "execution_count": 12,
   "metadata": {
    "colab": {},
    "colab_type": "code",
    "id": "ltNDDII1S5VR",
    "scrolled": true
   },
   "outputs": [
    {
     "name": "stdout",
     "output_type": "stream",
     "text": [
      "None-sim_1:Simulation started at 0.0 s and will end at 10.0 s\n",
      "None-sim_1:Simulation was completed in 00:00:00\n",
      "Active power output error:0.2776\n",
      "Reactive power output error:0.0002\n",
      "Inverter filter active power loss error:0.0000\n",
      "Inverter filter reactive power loss error:0.0000\n",
      "\n",
      "______-SolarPVDERThreePhase_1 - Voltage_____\n",
      "Vdc:550.00\n",
      "Vta:165.27-124.15j V\n",
      "Vtb:-190.84-78.89j V,Vtb:25.63+206.77j V\n",
      "Vtn:0.06+3.73j V\n",
      "Va:164.78-124.57j V\n",
      "Vb:-190.96-78.26j V,Vc:26.24+206.56j V\n",
      "Vn:0.06+3.73j V\n",
      "Vtrms:146.51 V\n",
      "Vpccrms:146.41 V\n",
      "\n",
      "______-SolarPVDERThreePhase_1 - Current_____\n",
      "ia:53.20-40.60j A\n",
      "ib:-61.76-25.77j A,ic:8.56+66.37j A\n",
      "In:-0.00-0.00j A\n",
      "Irms:47.32 V\n",
      "\n",
      "______-SolarPVDERThreePhase_1 - Power_____\n",
      "Ppv:20797.7 W\n",
      "S:20797.7+63.3j VA\n",
      "S_PCC:20784.2-0.0j VA\n",
      "\n",
      "______-SolarPVDERThreePhase_1 - Duty cycle_____\n",
      "ma:0.60-0.45j\n",
      "mb:-0.69-0.29j,mc:0.09+0.75j\n",
      "m0:0.00+0.01j\n",
      "CPU times: user 1.27 s, sys: 5.61 s, total: 6.88 s\n",
      "Wall time: 450 ms\n"
     ]
    },
    {
     "name": "stderr",
     "output_type": "stream",
     "text": [
      "/home/splathottam/.local/lib/python3.7/site-packages/scipy/integrate/odepack.py:251: ODEintWarning: Integration successful.\n",
      "  warnings.warn(warning_msg, ODEintWarning)\n"
     ]
    }
   ],
   "source": [
    "%%time\n",
    "sim1.jacFlag = True\n",
    "sim1.DEBUG_SIMULATION = False\n",
    "sim1.PER_UNIT = True\n",
    "sim1.DEBUG_SOLVER  = False\n",
    "sim1.tStop = 10.0\n",
    "sim1.tInc = 1/120.# 0.001\n",
    "sim1.run_simulation()\n",
    "PV_DER1.DER_model.validate_model()\n",
    "PV_DER1.DER_model.show_PV_DER_states('voltage')\n",
    "PV_DER1.DER_model.show_PV_DER_states('current')\n",
    "PV_DER1.DER_model.show_PV_DER_states('power')\n",
    "PV_DER1.DER_model.show_PV_DER_states('duty cycle')"
   ]
  },
  {
   "cell_type": "markdown",
   "metadata": {},
   "source": [
    "### Get trajectories for current, voltage, and power as a dictionary"
   ]
  },
  {
   "cell_type": "code",
   "execution_count": 13,
   "metadata": {},
   "outputs": [],
   "source": [
    "trajectories = sim1.get_trajectories()"
   ]
  }
 ],
 "metadata": {
  "colab": {
   "include_colab_link": true,
   "name": "PV-DER_usage_example.ipynb",
   "provenance": [],
   "version": "0.3.2"
  },
  "kernelspec": {
   "display_name": "pvder",
   "language": "python",
   "name": "pvder"
  },
  "language_info": {
   "codemirror_mode": {
    "name": "ipython",
    "version": 3
   },
   "file_extension": ".py",
   "mimetype": "text/x-python",
   "name": "python",
   "nbconvert_exporter": "python",
   "pygments_lexer": "ipython3",
   "version": "3.7.10"
  }
 },
 "nbformat": 4,
 "nbformat_minor": 4
}
