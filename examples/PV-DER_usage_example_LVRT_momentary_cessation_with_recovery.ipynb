{
 "cells": [
  {
   "cell_type": "markdown",
   "metadata": {
    "colab_type": "text",
    "id": "view-in-github"
   },
   "source": [
    "<a href=\"https://colab.research.google.com/github/sibyjackgrove/SolarPV-DER-simulation-utility/blob/master/examples/PV-DER_usage_example.ipynb\" target=\"_parent\"><img src=\"https://colab.research.google.com/assets/colab-badge.svg\" alt=\"Open In Colab\"/></a>"
   ]
  },
  {
   "cell_type": "markdown",
   "metadata": {
    "colab_type": "text",
    "id": "n6w3T8oaS84_"
   },
   "source": [
    "# Installation and usage"
   ]
  },
  {
   "cell_type": "markdown",
   "metadata": {},
   "source": [
    "## Installation from repository\n",
    "Users can download the `SolarPV-DER-simulation-utility` repository and install with `pip`. Note that if the installation is done in a Google Colab environment, the kernel need to be restarted before importing the (otherwise you will get a module import error)."
   ]
  },
  {
   "cell_type": "code",
   "execution_count": null,
   "metadata": {
    "colab": {},
    "colab_type": "code",
    "id": "xgy_uXYsTOsR"
   },
   "outputs": [],
   "source": [
    "import os\n",
    "try:\n",
    "    import pvder\n",
    "except ImportError:\n",
    "    !git clone https://github.com/sibyjackgrove/SolarPV-DER-simulation-utility.git\n",
    "        \n",
    "    if os.path.exists(os.path.join(os.getcwd(), 'SolarPV-DER-simulation-utility')):\n",
    "        %cd SolarPV-DER-simulation-utility\n",
    "        !pip install -e .\n",
    "        %cd .."
   ]
  },
  {
   "cell_type": "markdown",
   "metadata": {},
   "source": [
    "## Basic usage"
   ]
  },
  {
   "cell_type": "markdown",
   "metadata": {
    "colab_type": "text",
    "id": "J4tKN3DvS5U8"
   },
   "source": [
    "### Import classes\n",
    "Import classes neccessary to define instances of the PV-DER model, events, simulation, and results."
   ]
  },
  {
   "cell_type": "code",
   "execution_count": 1,
   "metadata": {
    "colab": {},
    "colab_type": "code",
    "id": "JwLCIIkdS5U_"
   },
   "outputs": [
    {
     "name": "stdout",
     "output_type": "stream",
     "text": [
      "Scipy version: 1.4.1\n",
      "Numpy version: 1.20.3\n",
      "Matplotlib version: 3.4.2\n"
     ]
    },
    {
     "name": "stderr",
     "output_type": "stream",
     "text": [
      "UsageError: unrecognized arguments: #To show interactive plot in the notebook cell\n"
     ]
    }
   ],
   "source": [
    "from pvder.DER_wrapper import DERModel\n",
    "\n",
    "from pvder.grid_components import Grid\n",
    "from pvder.dynamic_simulation import DynamicSimulation\n",
    "from pvder.simulation_events import SimulationEvents\n",
    "from pvder.simulation_utilities import SimulationUtilities,SimulationResults\n",
    "from pvder import utility_functions\n",
    "\n",
    "#Import Python modules\n",
    "import logging\n",
    "import numpy as np\n",
    "import scipy as sci\n",
    "import math\n",
    "import cmath\n",
    "import pandas\n",
    "\n",
    "\n",
    "import matplotlib as matplotlib\n",
    "print('Scipy version:',sci.__version__)\n",
    "print('Numpy version:',np.__version__)\n",
    "print('Matplotlib version:',matplotlib.__version__)\n",
    "\n",
    "%matplotlib inline    #To show interactive plot in the notebook cell "
   ]
  },
  {
   "cell_type": "markdown",
   "metadata": {},
   "source": [
    "## Initialize voltage (for use with loop mode)"
   ]
  },
  {
   "cell_type": "code",
   "execution_count": 2,
   "metadata": {},
   "outputs": [
    {
     "name": "stdout",
     "output_type": "stream",
     "text": [
      "Vrms:146.07\n",
      "Va:164.78-124.57j,Vb:-190.96-78.26j,Vc:26.24+206.56j\n",
      "V0:0.06+3.73j\n"
     ]
    }
   ],
   "source": [
    "logging.debug('test')\n",
    "Va=164.78-124.57j\n",
    "Vb=-190.96-78.26j\n",
    "Vc=26.24+206.56j\n",
    "Vrms = abs(Va)/math.sqrt(2)\n",
    "print('Vrms:{:.2f}'.format(Vrms))\n",
    "print('Va:{:.2f},Vb:{:.2f},Vc:{:.2f}'.format(Va,Vb,Vc))\n",
    "print('V0:{:.2f}'.format(Va+Vb+Vc))\n",
    "\n",
    "events1 = SimulationEvents(verbosity = 'DEBUG')\n",
    "grid1 = Grid(events=events1,unbalance_ratio_b=1.0,unbalance_ratio_c=1.0)\n"
   ]
  },
  {
   "cell_type": "markdown",
   "metadata": {},
   "source": [
    "## Select options"
   ]
  },
  {
   "cell_type": "code",
   "execution_count": 3,
   "metadata": {},
   "outputs": [],
   "source": [
    "STAND_ALONE = True\n",
    "STEADY_STATE = True\n",
    "LOOP=False\n",
    "\n",
    "model_type = 'ThreePhaseUnbalanced' #Model type\n",
    "#three phase model types: 'ThreePhaseBalanced','ThreePhaseUnbalanced','ThreePhaseUnbalancedConstantVdc'\n",
    "#single phase model types: 'SinglePhase'\n",
    "\n",
    "der_verbosity = 'DEBUG' #Logging verbosity\n",
    "config_file = r'../config_der.json'\n",
    "parameter1 = '50'#'50_type1'#'50','10' '50_constantVdc','50_balanced','250'"
   ]
  },
  {
   "cell_type": "markdown",
   "metadata": {
    "colab_type": "text",
    "id": "IrB7IEwGS5VD"
   },
   "source": [
    "### Create objects required to simulate either single phase or three phase PV-DER"
   ]
  },
  {
   "cell_type": "code",
   "execution_count": 4,
   "metadata": {
    "colab": {},
    "colab_type": "code",
    "id": "p4BNtHXWS5VE"
   },
   "outputs": [
    {
     "name": "stderr",
     "output_type": "stream",
     "text": [
      "INFO:pvder_logger:DER configuration with ID:50 was found in ../config_der.json\n",
      "INFO:pvder_logger:Updated DER argument verbosity from DER_config\n",
      "INFO:pvder_logger:-SolarPVDERThreePhase_1:Instance created with DER parameter ID: 50; Specifications - Srated:50.0 kVA, Ppv:45.8 kW, Vrms:177.0 V, Steady state:True,LVRT Enable:True,HVRT Enable:True\n"
     ]
    },
    {
     "name": "stdout",
     "output_type": "stream",
     "text": [
      "Optimization results:[0.91125869 0.02939627 1.21614206 0.03366481]\n",
      "----Parameters for DER with ID:50----\n",
      "Current controller :\n",
      "Kp_GCC:6000.000\n",
      "Ki_GCC:2000.000\n",
      "wp:200000.000\n",
      "DC link voltage controller :\n",
      "Kp_DC:-2.000\n",
      "Ki_DC:-10.000\n",
      "Reactive power controller :\n",
      "Kp_Q:0.200\n",
      "Ki_Q:10.000\n"
     ]
    }
   ],
   "source": [
    "if STAND_ALONE:\n",
    "    PV_DER1 = DERModel(modelType=model_type,events=events1,configFile=config_file,\n",
    "                       gridModel=grid1,\n",
    "                       derId=parameter1,\n",
    "                       standAlone = STAND_ALONE,steadyStateInitialization=STEADY_STATE)   \n",
    "else:\n",
    "    PV_DER1 = DERModel(modelType=model_type,events=events1,configFile=config_file,\n",
    "                       Vrmsrated = Vrms,\n",
    "                       gridVoltagePhaseA = Va,gridVoltagePhaseB = Vb,gridVoltagePhaseC = Vc,gridFrequency=2*math.pi*60.0,\n",
    "                       derId=parameter1,\n",
    "                       standAlone = STAND_ALONE,steadyStateInitialization=STEADY_STATE,\n",
    "                       verbosity = der_verbosity)        \n",
    "    \n",
    "sim1 = DynamicSimulation(gridModel=grid1,PV_model=PV_DER1.DER_model,events = events1,verbosity = 'INFO',solverType='odeint',LOOP_MODE=LOOP) #'odeint','ode-vode-bdf'\n",
    "results1 = SimulationResults(simulation = sim1,PER_UNIT=True,verbosity = 'INFO')\n",
    "PV_DER1.DER_model.show_PV_DER_parameters('controller_gains')"
   ]
  },
  {
   "cell_type": "markdown",
   "metadata": {},
   "source": [
    "### Show ridethrough settings"
   ]
  },
  {
   "cell_type": "code",
   "execution_count": 5,
   "metadata": {
    "scrolled": true
   },
   "outputs": [
    {
     "name": "stdout",
     "output_type": "stream",
     "text": [
      "\n",
      "______-SolarPVDERThreePhase_1 - LVRT_____\n",
      "______Flags______\n",
      "LVRT_ENABLE:True\n",
      "LVRT_TRIP:False,LVRT_MOMENTARY_CESSATION:False \n",
      "______Thresholds______\n",
      "Vrms_ref:177.00 V\n",
      "Zone:1,Vthreshold:0.88,tthreshold:5.00,tminridethrough:20.000,mode:momentary_cessation\n",
      "Zone:2,Vthreshold:0.70,tthreshold:3.50,tminridethrough:2.500,mode:momentary_cessation\n",
      "Zone:3,Vthreshold:0.50,tthreshold:0.25,tminridethrough:1.000,mode:momentary_cessation\n",
      "OUTPUT_CESSATION_DELAY:0.01,OUTPUT_RESTORE_DELAY:0.1\n"
     ]
    }
   ],
   "source": [
    "PV_DER1.DER_model.show_RT_settings(settings_type='LVRT',PER_UNIT=True)"
   ]
  },
  {
   "cell_type": "markdown",
   "metadata": {},
   "source": [
    "### Updating voltage ridethrough (VRT) settings\n",
    "1. VRT settings are stored in pvderConfig dictionary\n",
    "2. Update the dictionary by providing appropriate key and value\n",
    "3. Call VRT_initialize() method.\n",
    "4. Call show_RT_settings() to make sure that settings have changed"
   ]
  },
  {
   "cell_type": "code",
   "execution_count": 6,
   "metadata": {},
   "outputs": [],
   "source": [
    "#print(PV_DER1.pvderConfig.keys()) #Print contents of dictionary\n",
    "#PV_DER1.pvderConfig.update({'t_LV1_limit': 1.5})\n",
    "#PV_DER1.VRT_initialize()\n",
    "#PV_DER1.show_RT_settings(settings_type='LVRT',PER_UNIT=True)"
   ]
  },
  {
   "cell_type": "markdown",
   "metadata": {
    "colab_type": "text",
    "id": "Z30Cgj6FS5VG"
   },
   "source": [
    "### Add or remove events during simulation"
   ]
  },
  {
   "cell_type": "code",
   "execution_count": 7,
   "metadata": {
    "colab": {},
    "colab_type": "code",
    "id": "5R6jLd6gS5VH"
   },
   "outputs": [],
   "source": [
    "#Voltage sag event\n",
    "events1.add_grid_event(6.0,Vgrid=0.68,Vgrid_angle =0.0,fgrid=60.0)\n",
    "#Voltage rise event\n",
    "events1.add_grid_event(9.0,Vgrid=1.0,Vgrid_angle =0.0,fgrid=60.0)"
   ]
  },
  {
   "cell_type": "markdown",
   "metadata": {
    "colab_type": "text",
    "id": "IFUY3iJ4S5VK"
   },
   "source": [
    "### Show events"
   ]
  },
  {
   "cell_type": "code",
   "execution_count": 8,
   "metadata": {
    "colab": {},
    "colab_type": "code",
    "id": "RJEbUbtZS5VM"
   },
   "outputs": [
    {
     "name": "stdout",
     "output_type": "stream",
     "text": [
      "Showing all event in events instance -events_1\n",
      "Total solar events:0\n",
      "Total grid events:2\n",
      "t:6.000, Grid event, Grid voltage: Magnitude:0.68, Angle:0.000 V, Frequency is 60.00\n",
      "t:9.000, Grid event, Grid voltage: Magnitude:1.00, Angle:0.000 V, Frequency is 60.00\n"
     ]
    }
   ],
   "source": [
    "events1.show_events()"
   ]
  },
  {
   "cell_type": "markdown",
   "metadata": {
    "colab_type": "text",
    "id": "wsv8bkkuS5VQ"
   },
   "source": [
    "### Specify run time flags, simulation time, and run simulation "
   ]
  },
  {
   "cell_type": "code",
   "execution_count": 9,
   "metadata": {
    "colab": {},
    "colab_type": "code",
    "id": "ltNDDII1S5VR",
    "scrolled": true
   },
   "outputs": [
    {
     "name": "stdout",
     "output_type": "stream",
     "text": [
      "None-sim_1:Simulation started at 0.0 s and will end at 20.0 s\n"
     ]
    },
    {
     "name": "stderr",
     "output_type": "stream",
     "text": [
      "INFO:pvder_logger:-SolarPVDERThreePhase_1:6.0011:LV1 zone entered at 6.0011 s for 120.508 V p.u. (Vref:177.00 V,V_thresh:155.76 V(0.88),t_thresh:5.00 s,t_min_ridethrough:20.00 s,mode:momentary_cessation)\n",
      "INFO:pvder_logger:-SolarPVDERThreePhase_1:6.0011:LV2 zone entered at 6.0011 s for 120.508 V p.u. (Vref:177.00 V,V_thresh:123.90 V(0.70),t_thresh:3.50 s,t_min_ridethrough:2.50 s,mode:momentary_cessation)\n",
      "INFO:pvder_logger:-SolarPVDERThreePhase_1:8.5031:LV2 zone - momentary cessation after 2.5021 s for 120.476 V p.u. (Vref:177.00 V,V_thresh:123.90 V(0.70),t_thresh:3.50 s,t_min_ridethrough:2.50 s,mode:momentary_cessation)\n",
      "INFO:pvder_logger:-SolarPVDERThreePhase_1:8.5031:DER disconnect timer started.\n",
      "INFO:pvder_logger:-SolarPVDERThreePhase_1:8.5198:DER will be disconnected (t_disconnect_timer:0.0167 s,Vrms measured = 120.4762 V,LVRT Momentary cessation:True,LVRT Trip:False,HVRT Momentary cessation:False,HVRT Trip:False)\n",
      "INFO:pvder_logger:-SolarPVDERThreePhase_1:9.0007:LV1 flag reset at 9.0007 s after 2.9997 s for 177.000 V p.u. (Vref:177.00 V,V_thresh:155.76 V(0.88),t_thresh:5.00 s,t_min_ridethrough:20.00 s,mode:momentary_cessation)\n",
      "INFO:pvder_logger:-SolarPVDERThreePhase_1:9.0007:LV2 flag reset at 9.0007 s after 2.9997 s for 177.000 V p.u. (Vref:177.00 V,V_thresh:123.90 V(0.70),t_thresh:3.50 s,t_min_ridethrough:2.50 s,mode:momentary_cessation)\n",
      "INFO:pvder_logger:-SolarPVDERThreePhase_1:9.0007:Reconnect timer started at 9.0007 s for 177.000 V p.u. (Vref:177.00 V)\n",
      "INFO:pvder_logger:-SolarPVDERThreePhase_1:9.1091:DER reconnecting after momentary cessation at 9.1091s after 0.1083s for 177.000 V p.u. (Vref:177.00 V)\n",
      "/home/splathottam/.local/lib/python3.7/site-packages/scipy/integrate/odepack.py:251: ODEintWarning: Integration successful.\n",
      "  warnings.warn(warning_msg, ODEintWarning)\n"
     ]
    },
    {
     "name": "stdout",
     "output_type": "stream",
     "text": [
      "-SolarPVDERThreePhase_1:Time:[0.0000e+00 1.0000e-03 2.0000e-03 ... 1.9998e+01 1.9999e+01 2.0000e+01],Methods:[2 2 2 ... 2 2 2],Time steps:[0.00044835 0.00150291 0.00150291 ... 0.00833333 0.00833333 0.00833333]\n",
      "-SolarPVDERThreePhase_1:Simulation successful for all time steps!\n",
      "None-sim_1:Simulation was completed in 00:00:11\n",
      "Active power output error:0.5873\n",
      "Reactive power output error:0.0026\n",
      "Inverter filter active power loss error:0.0000\n",
      "Inverter filter reactive power loss error:0.0000\n",
      "\n",
      "______-SolarPVDERThreePhase_1 - Voltage_____\n",
      "Vdc:583.03\n",
      "Vta:250.59+7.78j V\n",
      "Vtb:-118.56-220.91j V,Vtb:-132.04+213.13j V\n",
      "Vtn:0.00+0.00j V\n",
      "Va:250.39+6.67j V\n",
      "Vb:-119.42-220.18j V,Vc:-130.97+213.51j V\n",
      "Vn:0.00+0.00j V\n",
      "Vtrms:177.28 V\n",
      "Vpccrms:177.11 V\n",
      "\n",
      "______-SolarPVDERThreePhase_1 - Current_____\n",
      "ia:117.08+3.12j A\n",
      "ib:-55.84-102.95j A,ic:-61.24+99.83j A\n",
      "In:0.00-0.00j A\n",
      "Irms:82.82 V\n",
      "\n",
      "______-SolarPVDERThreePhase_1 - Power_____\n",
      "Ppv:44045.2 W\n",
      "S:44045.2+193.9j VA\n",
      "S_PCC:44004.1+0.0j VA\n",
      "\n",
      "______-SolarPVDERThreePhase_1 - Duty cycle_____\n",
      "ma:0.86+0.03j\n",
      "mb:-0.41-0.76j,mc:-0.45+0.73j\n",
      "m0:0.00+0.00j\n"
     ]
    }
   ],
   "source": [
    "#%%time\n",
    "PV_DER1.MPPT_ENABLE=False\n",
    "PV_DER1.RAMP_ENABLE = False\n",
    "PV_DER1.VOLT_VAR_ENABLE = False\n",
    "PV_DER1.LVRT_ENABLE = True\n",
    "PV_DER1.HVRT_ENABLE = True\n",
    "PV_DER1.LFRT_ENABLE = False\n",
    "PV_DER1.DO_EXTRA_CALCULATIONS = True\n",
    "sim1.jacFlag = True\n",
    "sim1.DEBUG_SIMULATION = False\n",
    "sim1.DEBUG_VOLTAGES = True\n",
    "sim1.DEBUG_CURRENTS = True\n",
    "sim1.DEBUG_POWER = False\n",
    "sim1.DEBUG_CONTROLLERS  = True\n",
    "sim1.DEBUG_PLL = False\n",
    "sim1.PER_UNIT = True\n",
    "sim1.DEBUG_SOLVER  = True\n",
    "sim1.tStop = 20.0\n",
    "sim1.tInc = 0.001\n",
    "sim1.run_simulation()\n",
    "PV_DER1.DER_model.validate_model()\n",
    "PV_DER1.DER_model.show_PV_DER_states('voltage')\n",
    "PV_DER1.DER_model.show_PV_DER_states('current')\n",
    "PV_DER1.DER_model.show_PV_DER_states('power')\n",
    "PV_DER1.DER_model.show_PV_DER_states('duty cycle')"
   ]
  },
  {
   "cell_type": "markdown",
   "metadata": {
    "colab_type": "text",
    "id": "GniV1HpnS5VT"
   },
   "source": [
    "### Sequence of events from plot\n",
    "1. Low voltage event causes grid voltage to drop below 0.7 p.u. at 6.0 s.\n",
    "2. DER rides through fault from 6.0 s to 7.0 s.\n",
    "3. DER enters momentary cessation at 7.0 s.\n",
    "3. Voltage recovers back to 1 p.u. at 9.0 s.\n",
    "4. DER output recovers to rated power output at 9.5 s."
   ]
  },
  {
   "cell_type": "code",
   "execution_count": null,
   "metadata": {
    "colab": {},
    "colab_type": "code",
    "id": "l9jahCc6S5VU"
   },
   "outputs": [],
   "source": [
    "results1.PER_UNIT = True\n",
    "results1.PLOT_TITLE = True\n",
    "results1.font_size = 18\n",
    "results1.plot_DER_simulation(plot_type='active_power_Ppv_Pac_PCC')#"
   ]
  },
  {
   "cell_type": "code",
   "execution_count": null,
   "metadata": {
    "colab": {},
    "colab_type": "code",
    "id": "7QZf8WDrS5VX"
   },
   "outputs": [],
   "source": [
    "results1.plot_DER_simulation(plot_type='reactive_power')#_Q_PCC"
   ]
  },
  {
   "cell_type": "code",
   "execution_count": null,
   "metadata": {
    "colab": {},
    "colab_type": "code",
    "id": "QJxdwDUDS5Vb"
   },
   "outputs": [],
   "source": [
    "results1.plot_DER_simulation(plot_type='voltage_LV') #voltage_Vpcclv"
   ]
  },
  {
   "cell_type": "code",
   "execution_count": null,
   "metadata": {
    "colab": {},
    "colab_type": "code",
    "id": "kQS_2U6lS5Vf"
   },
   "outputs": [],
   "source": [
    "results1.plot_DER_simulation(plot_type='voltage_Vdc')"
   ]
  },
  {
   "cell_type": "code",
   "execution_count": null,
   "metadata": {
    "colab": {},
    "colab_type": "code",
    "id": "xwJnnVFUS5Vh"
   },
   "outputs": [],
   "source": [
    "results1.plot_DER_simulation(plot_type='current')"
   ]
  },
  {
   "cell_type": "code",
   "execution_count": null,
   "metadata": {},
   "outputs": [],
   "source": [
    "results1.plot_DER_simulation(plot_type='duty_cycle')"
   ]
  }
 ],
 "metadata": {
  "colab": {
   "include_colab_link": true,
   "name": "PV-DER_usage_example.ipynb",
   "provenance": [],
   "version": "0.3.2"
  },
  "kernelspec": {
   "display_name": "pvder",
   "language": "python",
   "name": "pvder"
  },
  "language_info": {
   "codemirror_mode": {
    "name": "ipython",
    "version": 3
   },
   "file_extension": ".py",
   "mimetype": "text/x-python",
   "name": "python",
   "nbconvert_exporter": "python",
   "pygments_lexer": "ipython3",
   "version": "3.7.10"
  }
 },
 "nbformat": 4,
 "nbformat_minor": 4
}
